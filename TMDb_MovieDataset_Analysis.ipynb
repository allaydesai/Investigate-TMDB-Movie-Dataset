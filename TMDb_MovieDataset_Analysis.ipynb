{
 "cells": [
  {
   "cell_type": "markdown",
   "metadata": {
    "colab_type": "text",
    "id": "NfbZ9G8YJAz-"
   },
   "source": [
    "# Project: Investigate TMDb_MovieData Dataset\n",
    "\n",
    "## Table of Contents\n",
    "<ul>\n",
    "<li><a href=\"#intro\">Introduction</a></li>\n",
    "<li><a href=\"#wrangling\">Data Wrangling</a></li>\n",
    "<li><a href=\"#eda\">Exploratory Data Analysis</a></li>\n",
    "<li><a href=\"#conclusions\">Conclusions</a></li>\n",
    "</ul>"
   ]
  },
  {
   "cell_type": "markdown",
   "metadata": {
    "colab_type": "text",
    "id": "LikqNZZJJzq6"
   },
   "source": [
    "<a id='intro'></a>\n",
    "## Introduction\n",
    "\n",
    "> In this project we will be analyzing data associated with imdb movie reviews from the year 1960 to 2015. In particular we will be looking at how the popularity of various genres have changed over time. Further we will be investigating the various attributes which make a movie successful. Is it possible to predict the success of a movie before its released? How has the runtime of movies varied? These are some of the questions we look to answer.\n",
    "\n",
    "Dataset Link:\n",
    "https://www.kaggle.com/tmdb/tmdb-movie-metadata/data\n",
    "\n"
   ]
  },
  {
   "cell_type": "code",
   "execution_count": 0,
   "metadata": {
    "colab": {},
    "colab_type": "code",
    "collapsed": true,
    "id": "_zKcDteHAMAz"
   },
   "outputs": [],
   "source": [
    "import pandas as pd\n",
    "import numpy as np\n",
    "import matplotlib.pyplot as plt\n",
    "import seaborn as sns\n",
    "% matplotlib inline"
   ]
  },
  {
   "cell_type": "markdown",
   "metadata": {
    "colab_type": "text",
    "id": "jHP8EAwd-JrE"
   },
   "source": [
    "Questions:\n",
    "\n",
    "<ul>\n",
    "<li><a href=\"#question1\">1.   Which genres have been successful over the years?</a></li>\n",
    "<li><a href=\"#question2\">2.   What are the attributes of a successful movie?</a></li>\n",
    "<li><a href=\"#question3\">3.   How has runtime of movies changed over the years?</a></li>\n",
    "<li><a href=\"#question4\">4.   What is the relation between vote count and rating?</a></li>\n",
    "<li><a href=\"#question5\">5.   What keywords have trended over the years?</a></li>\n",
    "\n",
    "\n",
    "\n",
    "\n",
    "\n",
    "\n"
   ]
  },
  {
   "cell_type": "markdown",
   "metadata": {
    "colab_type": "text",
    "id": "3P5Smqz37zdz"
   },
   "source": [
    "<a id='wrangling'></a>\n",
    "## Data Wrangling\n",
    "\n",
    "> In this section of the report, we will load in the data, check for cleanliness, and then trim and clean the dataset for analysis. \n",
    "\n",
    "### General Properties"
   ]
  },
  {
   "cell_type": "markdown",
   "metadata": {
    "colab_type": "text",
    "id": "-oSV8TSSAxAH"
   },
   "source": [
    "Load Dataset into Dataframe"
   ]
  },
  {
   "cell_type": "code",
   "execution_count": 0,
   "metadata": {
    "colab": {},
    "colab_type": "code",
    "collapsed": true,
    "id": "5F0ScwhgAh9-"
   },
   "outputs": [],
   "source": [
    "df = pd.read_csv('tmdb-movies.csv')"
   ]
  },
  {
   "cell_type": "code",
   "execution_count": 0,
   "metadata": {
    "colab": {
     "base_uri": "https://localhost:8080/",
     "height": 615
    },
    "colab_type": "code",
    "id": "3lY1CsX6BEek",
    "outputId": "ab245525-4268-4e1c-84a6-11ed114f5127"
   },
   "outputs": [
    {
     "data": {
      "text/html": [
       "<div>\n",
       "<style scoped>\n",
       "    .dataframe tbody tr th:only-of-type {\n",
       "        vertical-align: middle;\n",
       "    }\n",
       "\n",
       "    .dataframe tbody tr th {\n",
       "        vertical-align: top;\n",
       "    }\n",
       "\n",
       "    .dataframe thead th {\n",
       "        text-align: right;\n",
       "    }\n",
       "</style>\n",
       "<table border=\"1\" class=\"dataframe\">\n",
       "  <thead>\n",
       "    <tr style=\"text-align: right;\">\n",
       "      <th></th>\n",
       "      <th>id</th>\n",
       "      <th>imdb_id</th>\n",
       "      <th>popularity</th>\n",
       "      <th>budget</th>\n",
       "      <th>revenue</th>\n",
       "      <th>original_title</th>\n",
       "      <th>cast</th>\n",
       "      <th>homepage</th>\n",
       "      <th>director</th>\n",
       "      <th>tagline</th>\n",
       "      <th>keywords</th>\n",
       "      <th>overview</th>\n",
       "      <th>runtime</th>\n",
       "      <th>genres</th>\n",
       "      <th>production_companies</th>\n",
       "      <th>release_date</th>\n",
       "      <th>vote_count</th>\n",
       "      <th>vote_average</th>\n",
       "      <th>release_year</th>\n",
       "      <th>budget_adj</th>\n",
       "      <th>revenue_adj</th>\n",
       "    </tr>\n",
       "  </thead>\n",
       "  <tbody>\n",
       "    <tr>\n",
       "      <th>0</th>\n",
       "      <td>135397</td>\n",
       "      <td>tt0369610</td>\n",
       "      <td>32.985763</td>\n",
       "      <td>150000000</td>\n",
       "      <td>1513528810</td>\n",
       "      <td>Jurassic World</td>\n",
       "      <td>Chris Pratt|Bryce Dallas Howard|Irrfan Khan|Vi...</td>\n",
       "      <td>http://www.jurassicworld.com/</td>\n",
       "      <td>Colin Trevorrow</td>\n",
       "      <td>The park is open.</td>\n",
       "      <td>monster|dna|tyrannosaurus rex|velociraptor|island</td>\n",
       "      <td>Twenty-two years after the events of Jurassic ...</td>\n",
       "      <td>124</td>\n",
       "      <td>Action|Adventure|Science Fiction|Thriller</td>\n",
       "      <td>Universal Studios|Amblin Entertainment|Legenda...</td>\n",
       "      <td>6/9/15</td>\n",
       "      <td>5562</td>\n",
       "      <td>6.5</td>\n",
       "      <td>2015</td>\n",
       "      <td>1.379999e+08</td>\n",
       "      <td>1.392446e+09</td>\n",
       "    </tr>\n",
       "    <tr>\n",
       "      <th>1</th>\n",
       "      <td>76341</td>\n",
       "      <td>tt1392190</td>\n",
       "      <td>28.419936</td>\n",
       "      <td>150000000</td>\n",
       "      <td>378436354</td>\n",
       "      <td>Mad Max: Fury Road</td>\n",
       "      <td>Tom Hardy|Charlize Theron|Hugh Keays-Byrne|Nic...</td>\n",
       "      <td>http://www.madmaxmovie.com/</td>\n",
       "      <td>George Miller</td>\n",
       "      <td>What a Lovely Day.</td>\n",
       "      <td>future|chase|post-apocalyptic|dystopia|australia</td>\n",
       "      <td>An apocalyptic story set in the furthest reach...</td>\n",
       "      <td>120</td>\n",
       "      <td>Action|Adventure|Science Fiction|Thriller</td>\n",
       "      <td>Village Roadshow Pictures|Kennedy Miller Produ...</td>\n",
       "      <td>5/13/15</td>\n",
       "      <td>6185</td>\n",
       "      <td>7.1</td>\n",
       "      <td>2015</td>\n",
       "      <td>1.379999e+08</td>\n",
       "      <td>3.481613e+08</td>\n",
       "    </tr>\n",
       "    <tr>\n",
       "      <th>2</th>\n",
       "      <td>262500</td>\n",
       "      <td>tt2908446</td>\n",
       "      <td>13.112507</td>\n",
       "      <td>110000000</td>\n",
       "      <td>295238201</td>\n",
       "      <td>Insurgent</td>\n",
       "      <td>Shailene Woodley|Theo James|Kate Winslet|Ansel...</td>\n",
       "      <td>http://www.thedivergentseries.movie/#insurgent</td>\n",
       "      <td>Robert Schwentke</td>\n",
       "      <td>One Choice Can Destroy You</td>\n",
       "      <td>based on novel|revolution|dystopia|sequel|dyst...</td>\n",
       "      <td>Beatrice Prior must confront her inner demons ...</td>\n",
       "      <td>119</td>\n",
       "      <td>Adventure|Science Fiction|Thriller</td>\n",
       "      <td>Summit Entertainment|Mandeville Films|Red Wago...</td>\n",
       "      <td>3/18/15</td>\n",
       "      <td>2480</td>\n",
       "      <td>6.3</td>\n",
       "      <td>2015</td>\n",
       "      <td>1.012000e+08</td>\n",
       "      <td>2.716190e+08</td>\n",
       "    </tr>\n",
       "    <tr>\n",
       "      <th>3</th>\n",
       "      <td>140607</td>\n",
       "      <td>tt2488496</td>\n",
       "      <td>11.173104</td>\n",
       "      <td>200000000</td>\n",
       "      <td>2068178225</td>\n",
       "      <td>Star Wars: The Force Awakens</td>\n",
       "      <td>Harrison Ford|Mark Hamill|Carrie Fisher|Adam D...</td>\n",
       "      <td>http://www.starwars.com/films/star-wars-episod...</td>\n",
       "      <td>J.J. Abrams</td>\n",
       "      <td>Every generation has a story.</td>\n",
       "      <td>android|spaceship|jedi|space opera|3d</td>\n",
       "      <td>Thirty years after defeating the Galactic Empi...</td>\n",
       "      <td>136</td>\n",
       "      <td>Action|Adventure|Science Fiction|Fantasy</td>\n",
       "      <td>Lucasfilm|Truenorth Productions|Bad Robot</td>\n",
       "      <td>12/15/15</td>\n",
       "      <td>5292</td>\n",
       "      <td>7.5</td>\n",
       "      <td>2015</td>\n",
       "      <td>1.839999e+08</td>\n",
       "      <td>1.902723e+09</td>\n",
       "    </tr>\n",
       "    <tr>\n",
       "      <th>4</th>\n",
       "      <td>168259</td>\n",
       "      <td>tt2820852</td>\n",
       "      <td>9.335014</td>\n",
       "      <td>190000000</td>\n",
       "      <td>1506249360</td>\n",
       "      <td>Furious 7</td>\n",
       "      <td>Vin Diesel|Paul Walker|Jason Statham|Michelle ...</td>\n",
       "      <td>http://www.furious7.com/</td>\n",
       "      <td>James Wan</td>\n",
       "      <td>Vengeance Hits Home</td>\n",
       "      <td>car race|speed|revenge|suspense|car</td>\n",
       "      <td>Deckard Shaw seeks revenge against Dominic Tor...</td>\n",
       "      <td>137</td>\n",
       "      <td>Action|Crime|Thriller</td>\n",
       "      <td>Universal Pictures|Original Film|Media Rights ...</td>\n",
       "      <td>4/1/15</td>\n",
       "      <td>2947</td>\n",
       "      <td>7.3</td>\n",
       "      <td>2015</td>\n",
       "      <td>1.747999e+08</td>\n",
       "      <td>1.385749e+09</td>\n",
       "    </tr>\n",
       "  </tbody>\n",
       "</table>\n",
       "</div>"
      ],
      "text/plain": [
       "       id    imdb_id  popularity  ...  release_year    budget_adj   revenue_adj\n",
       "0  135397  tt0369610   32.985763  ...          2015  1.379999e+08  1.392446e+09\n",
       "1   76341  tt1392190   28.419936  ...          2015  1.379999e+08  3.481613e+08\n",
       "2  262500  tt2908446   13.112507  ...          2015  1.012000e+08  2.716190e+08\n",
       "3  140607  tt2488496   11.173104  ...          2015  1.839999e+08  1.902723e+09\n",
       "4  168259  tt2820852    9.335014  ...          2015  1.747999e+08  1.385749e+09\n",
       "\n",
       "[5 rows x 21 columns]"
      ]
     },
     "execution_count": 21,
     "metadata": {
      "tags": []
     },
     "output_type": "execute_result"
    }
   ],
   "source": [
    "df.head()"
   ]
  },
  {
   "cell_type": "code",
   "execution_count": 0,
   "metadata": {
    "colab": {
     "base_uri": "https://localhost:8080/",
     "height": 34
    },
    "colab_type": "code",
    "id": "ZBUoYHyI7yVJ",
    "outputId": "153f138b-0481-4585-8b59-b41b2f3593e6"
   },
   "outputs": [
    {
     "name": "stdout",
     "output_type": "stream",
     "text": [
      "Dataset, rows: 10866 cols: 21\n"
     ]
    }
   ],
   "source": [
    "shape = df.shape\n",
    "print(f\"Dataset, rows: {shape[0]} cols: {shape[1]}\")"
   ]
  },
  {
   "cell_type": "code",
   "execution_count": 0,
   "metadata": {
    "colab": {
     "base_uri": "https://localhost:8080/",
     "height": 544
    },
    "colab_type": "code",
    "id": "fvBLCUZk8s0j",
    "outputId": "aacae4d6-67e3-440f-88ee-7484e759adf3"
   },
   "outputs": [
    {
     "name": "stdout",
     "output_type": "stream",
     "text": [
      "Concise Summary of DataFrame\n",
      "\n",
      "<class 'pandas.core.frame.DataFrame'>\n",
      "RangeIndex: 10866 entries, 0 to 10865\n",
      "Data columns (total 21 columns):\n",
      " #   Column                Non-Null Count  Dtype  \n",
      "---  ------                --------------  -----  \n",
      " 0   id                    10866 non-null  int64  \n",
      " 1   imdb_id               10856 non-null  object \n",
      " 2   popularity            10866 non-null  float64\n",
      " 3   budget                10866 non-null  int64  \n",
      " 4   revenue               10866 non-null  int64  \n",
      " 5   original_title        10866 non-null  object \n",
      " 6   cast                  10790 non-null  object \n",
      " 7   homepage              2936 non-null   object \n",
      " 8   director              10822 non-null  object \n",
      " 9   tagline               8042 non-null   object \n",
      " 10  keywords              9373 non-null   object \n",
      " 11  overview              10862 non-null  object \n",
      " 12  runtime               10866 non-null  int64  \n",
      " 13  genres                10843 non-null  object \n",
      " 14  production_companies  9836 non-null   object \n",
      " 15  release_date          10866 non-null  object \n",
      " 16  vote_count            10866 non-null  int64  \n",
      " 17  vote_average          10866 non-null  float64\n",
      " 18  release_year          10866 non-null  int64  \n",
      " 19  budget_adj            10866 non-null  float64\n",
      " 20  revenue_adj           10866 non-null  float64\n",
      "dtypes: float64(4), int64(6), object(11)\n",
      "memory usage: 1.7+ MB\n",
      "None\n"
     ]
    }
   ],
   "source": [
    "print(\"Concise Summary of DataFrame\\n\")\n",
    "print(df.info())"
   ]
  },
  {
   "cell_type": "code",
   "execution_count": 0,
   "metadata": {
    "colab": {
     "base_uri": "https://localhost:8080/",
     "height": 34
    },
    "colab_type": "code",
    "id": "wYbD7kk7_F0m",
    "outputId": "34837099-7a8c-4889-abf5-7a2ac34987ad"
   },
   "outputs": [
    {
     "name": "stdout",
     "output_type": "stream",
     "text": [
      "Range of years in dataset: 1960 to 2015\n"
     ]
    }
   ],
   "source": [
    "print(f\"Range of years in dataset: {df['release_year'].min()} to {df['release_year'].max()}\")"
   ]
  },
  {
   "cell_type": "code",
   "execution_count": 0,
   "metadata": {
    "colab": {
     "base_uri": "https://localhost:8080/",
     "height": 187
    },
    "colab_type": "code",
    "id": "4kipIK8F9KQg",
    "outputId": "00fb454c-4681-4e33-a346-d7f2674544d6"
   },
   "outputs": [
    {
     "name": "stdout",
     "output_type": "stream",
     "text": [
      "Descriptive Statistics\n",
      "         popularity        budget       revenue       runtime    vote_count\n",
      "count  10866.000000  1.086600e+04  1.086600e+04  10866.000000  10866.000000\n",
      "mean       0.646441  1.462570e+07  3.982332e+07    102.070863    217.389748\n",
      "std        1.000185  3.091321e+07  1.170035e+08     31.381405    575.619058\n",
      "min        0.000065  0.000000e+00  0.000000e+00      0.000000     10.000000\n",
      "25%        0.207583  0.000000e+00  0.000000e+00     90.000000     17.000000\n",
      "50%        0.383856  0.000000e+00  0.000000e+00     99.000000     38.000000\n",
      "75%        0.713817  1.500000e+07  2.400000e+07    111.000000    145.750000\n",
      "max       32.985763  4.250000e+08  2.781506e+09    900.000000   9767.000000\n"
     ]
    }
   ],
   "source": [
    "print(\"Descriptive Statistics\")\n",
    "print(df[['popularity','budget', 'revenue','runtime', 'vote_count']].describe())"
   ]
  },
  {
   "cell_type": "code",
   "execution_count": 0,
   "metadata": {
    "colab": {
     "base_uri": "https://localhost:8080/",
     "height": 170
    },
    "colab_type": "code",
    "id": "tgY0p8Sa61WU",
    "outputId": "d9c51f4a-03fd-4f8b-de8a-e7ad14189b7a"
   },
   "outputs": [
    {
     "name": "stdout",
     "output_type": "stream",
     "text": [
      "       vote_average  release_year    budget_adj   revenue_adj\n",
      "count  10866.000000  10866.000000  1.086600e+04  1.086600e+04\n",
      "mean       5.974922   2001.322658  1.755104e+07  5.136436e+07\n",
      "std        0.935142     12.812941  3.430616e+07  1.446325e+08\n",
      "min        1.500000   1960.000000  0.000000e+00  0.000000e+00\n",
      "25%        5.400000   1995.000000  0.000000e+00  0.000000e+00\n",
      "50%        6.000000   2006.000000  0.000000e+00  0.000000e+00\n",
      "75%        6.600000   2011.000000  2.085325e+07  3.369710e+07\n",
      "max        9.200000   2015.000000  4.250000e+08  2.827124e+09\n"
     ]
    }
   ],
   "source": [
    "print(df[['vote_average','release_year', 'budget_adj', 'revenue_adj']].describe())"
   ]
  },
  {
   "cell_type": "code",
   "execution_count": 0,
   "metadata": {
    "colab": {
     "base_uri": "https://localhost:8080/",
     "height": 879
    },
    "colab_type": "code",
    "id": "IJ3075iOCLHs",
    "outputId": "3213163c-52c4-4e0f-a25a-36b93fdf0ce6"
   },
   "outputs": [
    {
     "data": {
      "image/png": "[encoded data removed]",
      "text/plain": [
       "<Figure size 1080x1080 with 12 Axes>"
      ]
     },
     "metadata": {
      "needs_background": "light",
      "tags": []
     },
     "output_type": "display_data"
    }
   ],
   "source": [
    "df.hist(figsize=(15,15));"
   ]
  },
  {
   "cell_type": "code",
   "execution_count": 0,
   "metadata": {
    "colab": {
     "base_uri": "https://localhost:8080/",
     "height": 408
    },
    "colab_type": "code",
    "id": "ZAhk8tFYxVn-",
    "outputId": "11e9a985-ed0b-4620-a47c-cc30ef4e9957"
   },
   "outputs": [
    {
     "name": "stdout",
     "output_type": "stream",
     "text": [
      "Number of unique values in each column\n",
      "id                      10865\n",
      "imdb_id                 10855\n",
      "popularity              10814\n",
      "budget                    557\n",
      "revenue                  4702\n",
      "original_title          10571\n",
      "cast                    10719\n",
      "homepage                 2896\n",
      "director                 5067\n",
      "tagline                  7997\n",
      "keywords                 8804\n",
      "overview                10847\n",
      "runtime                   247\n",
      "genres                   2039\n",
      "production_companies     7445\n",
      "release_date             5909\n",
      "vote_count               1289\n",
      "vote_average               72\n",
      "release_year               56\n",
      "budget_adj               2614\n",
      "revenue_adj              4840\n",
      "dtype: int64\n"
     ]
    }
   ],
   "source": [
    "print(\"Number of unique values in each column\")\n",
    "print(df.nunique())"
   ]
  },
  {
   "cell_type": "markdown",
   "metadata": {
    "colab_type": "text",
    "id": "BIVXcwpN7S3z"
   },
   "source": [
    "### **Data Cleaning**\n",
    "\n",
    "Our Goal here is to find the potentially unreasonable data values, unnecessary variables for my posed research questions, null data or duplicates, and then make data clearing decisions based on remaining data.\n"
   ]
  },
  {
   "cell_type": "markdown",
   "metadata": {
    "colab_type": "text",
    "id": "-wcj-0Za3ULM"
   },
   "source": [
    "### 1. Drop unwanted columns\n",
    "\n",
    "We begin the cleanup effort by dropping the columns which are irrelevant to the analysis process. These are:\n",
    "\n",
    "\n",
    "*   imdb_id\n",
    "*   homepage\n",
    "*   tagline\n",
    "*   overview\n",
    "*   release_date\n",
    "\n"
   ]
  },
  {
   "cell_type": "code",
   "execution_count": 0,
   "metadata": {
    "colab": {
     "base_uri": "https://localhost:8080/",
     "height": 168
    },
    "colab_type": "code",
    "id": "tVbogUdR242c",
    "outputId": "a6fc0d5d-95b1-4426-e784-bd6340027c76"
   },
   "outputs": [
    {
     "data": {
      "text/html": [
       "<div>\n",
       "<style scoped>\n",
       "    .dataframe tbody tr th:only-of-type {\n",
       "        vertical-align: middle;\n",
       "    }\n",
       "\n",
       "    .dataframe tbody tr th {\n",
       "        vertical-align: top;\n",
       "    }\n",
       "\n",
       "    .dataframe thead th {\n",
       "        text-align: right;\n",
       "    }\n",
       "</style>\n",
       "<table border=\"1\" class=\"dataframe\">\n",
       "  <thead>\n",
       "    <tr style=\"text-align: right;\">\n",
       "      <th></th>\n",
       "      <th>id</th>\n",
       "      <th>popularity</th>\n",
       "      <th>budget</th>\n",
       "      <th>revenue</th>\n",
       "      <th>original_title</th>\n",
       "      <th>cast</th>\n",
       "      <th>director</th>\n",
       "      <th>keywords</th>\n",
       "      <th>runtime</th>\n",
       "      <th>genres</th>\n",
       "      <th>production_companies</th>\n",
       "      <th>vote_count</th>\n",
       "      <th>vote_average</th>\n",
       "      <th>release_year</th>\n",
       "      <th>budget_adj</th>\n",
       "      <th>revenue_adj</th>\n",
       "    </tr>\n",
       "  </thead>\n",
       "  <tbody>\n",
       "    <tr>\n",
       "      <th>0</th>\n",
       "      <td>135397</td>\n",
       "      <td>32.985763</td>\n",
       "      <td>150000000</td>\n",
       "      <td>1513528810</td>\n",
       "      <td>Jurassic World</td>\n",
       "      <td>Chris Pratt|Bryce Dallas Howard|Irrfan Khan|Vi...</td>\n",
       "      <td>Colin Trevorrow</td>\n",
       "      <td>monster|dna|tyrannosaurus rex|velociraptor|island</td>\n",
       "      <td>124</td>\n",
       "      <td>Action|Adventure|Science Fiction|Thriller</td>\n",
       "      <td>Universal Studios|Amblin Entertainment|Legenda...</td>\n",
       "      <td>5562</td>\n",
       "      <td>6.5</td>\n",
       "      <td>2015</td>\n",
       "      <td>1.379999e+08</td>\n",
       "      <td>1.392446e+09</td>\n",
       "    </tr>\n",
       "  </tbody>\n",
       "</table>\n",
       "</div>"
      ],
      "text/plain": [
       "       id  popularity     budget  ...  release_year    budget_adj   revenue_adj\n",
       "0  135397   32.985763  150000000  ...          2015  1.379999e+08  1.392446e+09\n",
       "\n",
       "[1 rows x 16 columns]"
      ]
     },
     "execution_count": 29,
     "metadata": {
      "tags": []
     },
     "output_type": "execute_result"
    }
   ],
   "source": [
    "columns_to_drop = ['imdb_id', 'homepage', 'tagline', 'overview', 'release_date']\n",
    "df.drop(columns=columns_to_drop, inplace=True)\n",
    "df.head(1)"
   ]
  },
  {
   "cell_type": "markdown",
   "metadata": {
    "colab_type": "text",
    "id": "yeg6sjeMNLiS"
   },
   "source": [
    "### 2. Drop rows with some columns containing null value\n",
    "\n",
    "There are few string columns such as director, cast and genres that have null values in small number hence its safe to drop these rows "
   ]
  },
  {
   "cell_type": "code",
   "execution_count": 0,
   "metadata": {
    "colab": {
     "base_uri": "https://localhost:8080/",
     "height": 323
    },
    "colab_type": "code",
    "id": "2O97Q3cRSYXi",
    "outputId": "43009665-0111-4533-e183-5b42ad5b7566"
   },
   "outputs": [
    {
     "name": "stdout",
     "output_type": "stream",
     "text": [
      "Checking Null values in columns: \n"
     ]
    },
    {
     "data": {
      "text/plain": [
       "id                         0\n",
       "popularity                 0\n",
       "budget                     0\n",
       "revenue                    0\n",
       "original_title             0\n",
       "cast                      76\n",
       "director                  44\n",
       "keywords                1493\n",
       "runtime                    0\n",
       "genres                    23\n",
       "production_companies    1030\n",
       "vote_count                 0\n",
       "vote_average               0\n",
       "release_year               0\n",
       "budget_adj                 0\n",
       "revenue_adj                0\n",
       "dtype: int64"
      ]
     },
     "execution_count": 30,
     "metadata": {
      "tags": []
     },
     "output_type": "execute_result"
    }
   ],
   "source": [
    "print(\"Checking Null values in columns: \")\n",
    "df.isnull().sum()"
   ]
  },
  {
   "cell_type": "code",
   "execution_count": 0,
   "metadata": {
    "colab": {
     "base_uri": "https://localhost:8080/",
     "height": 51
    },
    "colab_type": "code",
    "id": "o2BddzSkNs_H",
    "outputId": "8dde0217-075f-40c4-a75b-dc876128248d"
   },
   "outputs": [
    {
     "name": "stdout",
     "output_type": "stream",
     "text": [
      "Dataset orignally, rows: 10866 cols: 16\n",
      "Dataset after dropping NaN, rows: 10732 cols: 16\n"
     ]
    }
   ],
   "source": [
    "shape = df.shape\n",
    "print(f\"Dataset orignally, rows: {shape[0]} cols: {shape[1]}\")\n",
    "df.dropna(subset=['cast', 'director', 'genres'], axis=0, inplace=True)\n",
    "shape = df.shape\n",
    "print(f\"Dataset after dropping NaN, rows: {shape[0]} cols: {shape[1]}\")"
   ]
  },
  {
   "cell_type": "markdown",
   "metadata": {
    "colab_type": "text",
    "id": "2qNACgO1Pgl8"
   },
   "source": [
    "### 3. Drop duplicate rows\n",
    "We can also go ahead and drop any duplicate rows"
   ]
  },
  {
   "cell_type": "code",
   "execution_count": 0,
   "metadata": {
    "colab": {
     "base_uri": "https://localhost:8080/",
     "height": 51
    },
    "colab_type": "code",
    "id": "ccYhLgjzPmFV",
    "outputId": "26a04265-e870-4c2a-e92e-7229133c43ec"
   },
   "outputs": [
    {
     "name": "stdout",
     "output_type": "stream",
     "text": [
      "Number of duplicate rows: 1\n",
      "Dataset after dropping duplicates, rows: 10731 cols: 16\n"
     ]
    }
   ],
   "source": [
    "print(f\"Number of duplicate rows: {sum(df.duplicated())}\")\n",
    "df.drop_duplicates(inplace=True)\n",
    "shape = df.shape\n",
    "print(f\"Dataset after dropping duplicates, rows: {shape[0]} cols: {shape[1]}\")"
   ]
  },
  {
   "cell_type": "markdown",
   "metadata": {
    "colab_type": "text",
    "id": "qA3yqHdf4m93"
   },
   "source": [
    "### 4. Fix numerical columns with 0 values \n",
    "\n",
    "Next, for the purpose of numerical anlysis it is important to have complete and accurate data. Description of the dataframe along with the histograms highlighted that budget, revenue, budget_adj, revenue_adj have values of zero for each of these columns. While we are at it we can drop rows containing runtime value of zero as well. \n",
    "\n",
    "We acheive this by setting all the zero's to NaN and then dropping all rows with NaN's"
   ]
  },
  {
   "cell_type": "markdown",
   "metadata": {
    "colab_type": "text",
    "id": "qQv7YSvx6r6l"
   },
   "source": [
    "First lets have a look at how many rows have a zero in each of these columns"
   ]
  },
  {
   "cell_type": "code",
   "execution_count": 0,
   "metadata": {
    "colab": {
     "base_uri": "https://localhost:8080/",
     "height": 102
    },
    "colab_type": "code",
    "id": "9LRZ14Dv6rhS",
    "outputId": "88e11b28-8aa5-40fc-ce96-1087b6d9d3e5"
   },
   "outputs": [
    {
     "name": "stdout",
     "output_type": "stream",
     "text": [
      "Number of zero rows in budget: 5578\n",
      "Number of zero rows in revenue: 5888\n",
      "Number of zero rows in budget_adj: 5578\n",
      "Number of zero rows in revenue_adj: 5888\n",
      "Number of zero rows in runtime: 28\n"
     ]
    }
   ],
   "source": [
    "columns_zero = ['budget', 'revenue', 'budget_adj', 'revenue_adj', 'runtime']\n",
    "for column in columns_zero:\n",
    "  print(f\"Number of zero rows in {column}: {df.groupby([column]).count()['id'].head(1)[0]}\")"
   ]
  },
  {
   "cell_type": "markdown",
   "metadata": {
    "colab_type": "text",
    "id": "0it3xSEQPJCp"
   },
   "source": [
    "Looks like there are many rows containing zero budget or revenue. It wouldnt make sense to drop them all, hence we set the zero to NaN and move on. \n",
    "\n",
    "We can drop the runtime rows containing a value of zero hence they are small"
   ]
  },
  {
   "cell_type": "code",
   "execution_count": 0,
   "metadata": {
    "colab": {
     "base_uri": "https://localhost:8080/",
     "height": 34
    },
    "colab_type": "code",
    "id": "DMS3PohB5yjS",
    "outputId": "f07fada5-1d1f-4b78-dde8-c0c1921f752b"
   },
   "outputs": [
    {
     "name": "stdout",
     "output_type": "stream",
     "text": [
      "Dataset after dropping runtime, rows: 10703 cols: 16\n"
     ]
    }
   ],
   "source": [
    "df['budget'].replace(0, np.NAN, inplace=True)\n",
    "df['revenue'].replace(0, np.NAN, inplace=True)\n",
    "\n",
    "df['budget_adj'].replace(0, np.NAN, inplace=True)\n",
    "df['revenue_adj'].replace(0, np.NAN, inplace=True)\n",
    "\n",
    "# this should filter the data in place \n",
    "df.query('runtime !=0', inplace=True) \n",
    "\n",
    "#df.dropna(axis=0, inplace=True)\n",
    "shape = df.shape\n",
    "print(f\"Dataset after dropping runtime, rows: {shape[0]} cols: {shape[1]}\")"
   ]
  },
  {
   "cell_type": "markdown",
   "metadata": {
    "colab_type": "text",
    "id": "iOV1Wl5P1t9w"
   },
   "source": [
    "### 5. Split all the columns containing seperator '|'\n",
    "\n",
    "At a first glance of the columns, something that stood out was the content in the following columns being seperated by \"|\":\n",
    "\n",
    "*   cast\n",
    "*   keywords\n",
    "*   genres\n",
    "*   production_companies\n",
    "\n",
    "There are two options here. We could choose to proceed with the columns as is or we could split them each into its own column.\n",
    "\n",
    "For the purpose of this analysis we split them into their respective seperate columns"
   ]
  },
  {
   "cell_type": "code",
   "execution_count": 0,
   "metadata": {
    "colab": {},
    "colab_type": "code",
    "collapsed": true,
    "id": "JSbiJi-tM0HN"
   },
   "outputs": [],
   "source": [
    "def split_rename(df, column_name):\n",
    "  return (df[column_name].str.split('|', expand=True).rename(columns=lambda x: f\"{column_name}_{x+1}\"))"
   ]
  },
  {
   "cell_type": "code",
   "execution_count": 0,
   "metadata": {
    "colab": {},
    "colab_type": "code",
    "collapsed": true,
    "id": "URFeEZWBZ66O"
   },
   "outputs": [],
   "source": [
    "df_cast = split_rename(df, 'cast')\n",
    "df_keywords = split_rename(df, 'keywords')\n",
    "df_genres = split_rename(df, 'genres')\n",
    "df_production = split_rename(df, 'production_companies')"
   ]
  },
  {
   "cell_type": "code",
   "execution_count": 0,
   "metadata": {
    "colab": {
     "base_uri": "https://localhost:8080/",
     "height": 204
    },
    "colab_type": "code",
    "id": "e_-shfy4aVg_",
    "outputId": "39af8b5a-8d4d-42b0-b0e4-5b1de2dcac39"
   },
   "outputs": [
    {
     "data": {
      "text/html": [
       "<div>\n",
       "<style scoped>\n",
       "    .dataframe tbody tr th:only-of-type {\n",
       "        vertical-align: middle;\n",
       "    }\n",
       "\n",
       "    .dataframe tbody tr th {\n",
       "        vertical-align: top;\n",
       "    }\n",
       "\n",
       "    .dataframe thead th {\n",
       "        text-align: right;\n",
       "    }\n",
       "</style>\n",
       "<table border=\"1\" class=\"dataframe\">\n",
       "  <thead>\n",
       "    <tr style=\"text-align: right;\">\n",
       "      <th></th>\n",
       "      <th>genres_1</th>\n",
       "      <th>genres_2</th>\n",
       "      <th>genres_3</th>\n",
       "      <th>genres_4</th>\n",
       "      <th>genres_5</th>\n",
       "    </tr>\n",
       "  </thead>\n",
       "  <tbody>\n",
       "    <tr>\n",
       "      <th>0</th>\n",
       "      <td>Action</td>\n",
       "      <td>Adventure</td>\n",
       "      <td>Science Fiction</td>\n",
       "      <td>Thriller</td>\n",
       "      <td>None</td>\n",
       "    </tr>\n",
       "    <tr>\n",
       "      <th>1</th>\n",
       "      <td>Action</td>\n",
       "      <td>Adventure</td>\n",
       "      <td>Science Fiction</td>\n",
       "      <td>Thriller</td>\n",
       "      <td>None</td>\n",
       "    </tr>\n",
       "    <tr>\n",
       "      <th>2</th>\n",
       "      <td>Adventure</td>\n",
       "      <td>Science Fiction</td>\n",
       "      <td>Thriller</td>\n",
       "      <td>None</td>\n",
       "      <td>None</td>\n",
       "    </tr>\n",
       "    <tr>\n",
       "      <th>3</th>\n",
       "      <td>Action</td>\n",
       "      <td>Adventure</td>\n",
       "      <td>Science Fiction</td>\n",
       "      <td>Fantasy</td>\n",
       "      <td>None</td>\n",
       "    </tr>\n",
       "    <tr>\n",
       "      <th>4</th>\n",
       "      <td>Action</td>\n",
       "      <td>Crime</td>\n",
       "      <td>Thriller</td>\n",
       "      <td>None</td>\n",
       "      <td>None</td>\n",
       "    </tr>\n",
       "  </tbody>\n",
       "</table>\n",
       "</div>"
      ],
      "text/plain": [
       "    genres_1         genres_2         genres_3  genres_4 genres_5\n",
       "0     Action        Adventure  Science Fiction  Thriller     None\n",
       "1     Action        Adventure  Science Fiction  Thriller     None\n",
       "2  Adventure  Science Fiction         Thriller      None     None\n",
       "3     Action        Adventure  Science Fiction   Fantasy     None\n",
       "4     Action            Crime         Thriller      None     None"
      ]
     },
     "execution_count": 37,
     "metadata": {
      "tags": []
     },
     "output_type": "execute_result"
    }
   ],
   "source": [
    "df_genres.head()"
   ]
  },
  {
   "cell_type": "markdown",
   "metadata": {
    "colab_type": "text",
    "id": "Bcvop0Obb4rn"
   },
   "source": [
    "Adding the new columns to the dataset and dropping the previous ones"
   ]
  },
  {
   "cell_type": "code",
   "execution_count": 0,
   "metadata": {
    "colab": {},
    "colab_type": "code",
    "collapsed": true,
    "id": "rEORE1lwbQLh"
   },
   "outputs": [],
   "source": [
    "df = df.join([df_cast, df_keywords, df_genres, df_production])\n",
    "df = df.drop(['cast', 'keywords', 'genres', 'production_companies'], axis=1)"
   ]
  },
  {
   "cell_type": "markdown",
   "metadata": {
    "colab_type": "text",
    "id": "sS_NlIVqUY9X"
   },
   "source": [
    "### Here is a summary of the clean dataset:"
   ]
  },
  {
   "cell_type": "code",
   "execution_count": 0,
   "metadata": {
    "colab": {
     "base_uri": "https://localhost:8080/",
     "height": 680
    },
    "colab_type": "code",
    "id": "KKf2jahsUfav",
    "outputId": "c5877b3f-4101-4e2d-f8e7-6215ddcefd68"
   },
   "outputs": [
    {
     "name": "stdout",
     "output_type": "stream",
     "text": [
      "<class 'pandas.core.frame.DataFrame'>\n",
      "Int64Index: 10703 entries, 0 to 10865\n",
      "Data columns (total 32 columns):\n",
      " #   Column                  Non-Null Count  Dtype  \n",
      "---  ------                  --------------  -----  \n",
      " 0   id                      10703 non-null  int64  \n",
      " 1   popularity              10703 non-null  float64\n",
      " 2   budget                  5150 non-null   float64\n",
      " 3   revenue                 4843 non-null   float64\n",
      " 4   original_title          10703 non-null  object \n",
      " 5   director                10703 non-null  object \n",
      " 6   runtime                 10703 non-null  int64  \n",
      " 7   vote_count              10703 non-null  int64  \n",
      " 8   vote_average            10703 non-null  float64\n",
      " 9   release_year            10703 non-null  int64  \n",
      " 10  budget_adj              5150 non-null   float64\n",
      " 11  revenue_adj             4843 non-null   float64\n",
      " 12  cast_1                  10703 non-null  object \n",
      " 13  cast_2                  10568 non-null  object \n",
      " 14  cast_3                  10484 non-null  object \n",
      " 15  cast_4                  10378 non-null  object \n",
      " 16  cast_5                  10073 non-null  object \n",
      " 17  keywords_1              9293 non-null   object \n",
      " 18  keywords_2              8384 non-null   object \n",
      " 19  keywords_3              7503 non-null   object \n",
      " 20  keywords_4              6507 non-null   object \n",
      " 21  keywords_5              5519 non-null   object \n",
      " 22  genres_1                10703 non-null  object \n",
      " 23  genres_2                8442 non-null   object \n",
      " 24  genres_3                5042 non-null   object \n",
      " 25  genres_4                1972 non-null   object \n",
      " 26  genres_5                539 non-null    object \n",
      " 27  production_companies_1  9759 non-null   object \n",
      " 28  production_companies_2  6379 non-null   object \n",
      " 29  production_companies_3  3809 non-null   object \n",
      " 30  production_companies_4  2049 non-null   object \n",
      " 31  production_companies_5  1124 non-null   object \n",
      "dtypes: float64(6), int64(4), object(22)\n",
      "memory usage: 3.0+ MB\n"
     ]
    }
   ],
   "source": [
    "df.info()"
   ]
  },
  {
   "cell_type": "markdown",
   "metadata": {
    "colab_type": "text",
    "id": "RPBQ8lDoWlce"
   },
   "source": [
    "<a id='eda'></a>\n",
    "## Exploratory Data Analysis"
   ]
  },
  {
   "cell_type": "markdown",
   "metadata": {
    "colab_type": "text",
    "id": "IiHhCFNaW2lz"
   },
   "source": [
    "<a id='question1'></a>\n",
    "### Research question 1: Which genres have been successful over the years?"
   ]
  },
  {
   "cell_type": "code",
   "execution_count": 0,
   "metadata": {
    "colab": {
     "base_uri": "https://localhost:8080/",
     "height": 134
    },
    "colab_type": "code",
    "id": "BFZ-J1vOWiVI",
    "outputId": "7bed07f3-8c31-409a-cf8d-109c5450b4be"
   },
   "outputs": [
    {
     "data": {
      "text/html": [
       "<div>\n",
       "<style scoped>\n",
       "    .dataframe tbody tr th:only-of-type {\n",
       "        vertical-align: middle;\n",
       "    }\n",
       "\n",
       "    .dataframe tbody tr th {\n",
       "        vertical-align: top;\n",
       "    }\n",
       "\n",
       "    .dataframe thead th {\n",
       "        text-align: right;\n",
       "    }\n",
       "</style>\n",
       "<table border=\"1\" class=\"dataframe\">\n",
       "  <thead>\n",
       "    <tr style=\"text-align: right;\">\n",
       "      <th></th>\n",
       "      <th>id</th>\n",
       "      <th>popularity</th>\n",
       "      <th>budget</th>\n",
       "      <th>revenue</th>\n",
       "      <th>profit</th>\n",
       "      <th>original_title</th>\n",
       "      <th>director</th>\n",
       "      <th>runtime</th>\n",
       "      <th>vote_count</th>\n",
       "      <th>vote_average</th>\n",
       "      <th>release_year</th>\n",
       "      <th>budget_adj</th>\n",
       "      <th>revenue_adj</th>\n",
       "      <th>cast_1</th>\n",
       "      <th>cast_2</th>\n",
       "      <th>cast_3</th>\n",
       "      <th>cast_4</th>\n",
       "      <th>cast_5</th>\n",
       "      <th>keywords_1</th>\n",
       "      <th>keywords_2</th>\n",
       "      <th>keywords_3</th>\n",
       "      <th>keywords_4</th>\n",
       "      <th>keywords_5</th>\n",
       "      <th>genres_1</th>\n",
       "      <th>genres_2</th>\n",
       "      <th>genres_3</th>\n",
       "      <th>genres_4</th>\n",
       "      <th>genres_5</th>\n",
       "      <th>production_companies_1</th>\n",
       "      <th>production_companies_2</th>\n",
       "      <th>production_companies_3</th>\n",
       "      <th>production_companies_4</th>\n",
       "      <th>production_companies_5</th>\n",
       "    </tr>\n",
       "  </thead>\n",
       "  <tbody>\n",
       "    <tr>\n",
       "      <th>0</th>\n",
       "      <td>135397</td>\n",
       "      <td>32.985763</td>\n",
       "      <td>150000000.0</td>\n",
       "      <td>1.513529e+09</td>\n",
       "      <td>1.363529e+09</td>\n",
       "      <td>Jurassic World</td>\n",
       "      <td>Colin Trevorrow</td>\n",
       "      <td>124</td>\n",
       "      <td>5562</td>\n",
       "      <td>6.5</td>\n",
       "      <td>2015</td>\n",
       "      <td>1.379999e+08</td>\n",
       "      <td>1.392446e+09</td>\n",
       "      <td>Chris Pratt</td>\n",
       "      <td>Bryce Dallas Howard</td>\n",
       "      <td>Irrfan Khan</td>\n",
       "      <td>Vincent D'Onofrio</td>\n",
       "      <td>Nick Robinson</td>\n",
       "      <td>monster</td>\n",
       "      <td>dna</td>\n",
       "      <td>tyrannosaurus rex</td>\n",
       "      <td>velociraptor</td>\n",
       "      <td>island</td>\n",
       "      <td>Action</td>\n",
       "      <td>Adventure</td>\n",
       "      <td>Science Fiction</td>\n",
       "      <td>Thriller</td>\n",
       "      <td>None</td>\n",
       "      <td>Universal Studios</td>\n",
       "      <td>Amblin Entertainment</td>\n",
       "      <td>Legendary Pictures</td>\n",
       "      <td>Fuji Television Network</td>\n",
       "      <td>Dentsu</td>\n",
       "    </tr>\n",
       "  </tbody>\n",
       "</table>\n",
       "</div>"
      ],
      "text/plain": [
       "       id  popularity  ...   production_companies_4  production_companies_5\n",
       "0  135397   32.985763  ...  Fuji Television Network                  Dentsu\n",
       "\n",
       "[1 rows x 33 columns]"
      ]
     },
     "execution_count": 40,
     "metadata": {
      "tags": []
     },
     "output_type": "execute_result"
    }
   ],
   "source": [
    "# First we will create a column for profit \n",
    "df.insert(4,'profit',df['revenue']-df['budget'])\n",
    "df.head(1)"
   ]
  },
  {
   "cell_type": "code",
   "execution_count": 0,
   "metadata": {
    "colab": {
     "base_uri": "https://localhost:8080/",
     "height": 448
    },
    "colab_type": "code",
    "id": "Qq8zqFfT5Coc",
    "outputId": "f145691c-b305-44f9-f3a2-b2e659e560c9"
   },
   "outputs": [
    {
     "name": "stdout",
     "output_type": "stream",
     "text": [
      "count    3.849000e+03\n",
      "mean     7.056595e+07\n",
      "std      1.506990e+08\n",
      "min     -4.139124e+08\n",
      "25%     -1.312284e+06\n",
      "50%      2.014450e+07\n",
      "75%      8.198066e+07\n",
      "max      2.544506e+09\n",
      "Name: profit, dtype: float64\n"
     ]
    },
    {
     "data": {
      "text/plain": [
       "<matplotlib.axes._subplots.AxesSubplot at 0x7f1aea4b8048>"
      ]
     },
     "execution_count": 41,
     "metadata": {
      "tags": []
     },
     "output_type": "execute_result"
    },
    {
     "data": {
      "image/png": "[encoded data removed]",
      "text/plain": [
       "<Figure size 432x288 with 1 Axes>"
      ]
     },
     "metadata": {
      "needs_background": "light",
      "tags": []
     },
     "output_type": "display_data"
    }
   ],
   "source": [
    "print(df['profit'].describe())\n",
    "df['profit'].hist()"
   ]
  },
  {
   "cell_type": "code",
   "execution_count": 0,
   "metadata": {
    "colab": {
     "base_uri": "https://localhost:8080/",
     "height": 360
    },
    "colab_type": "code",
    "id": "0YL6SGe0XVhc",
    "outputId": "c4fe2fbb-b2cb-426a-b179-9c51bcf7c74c"
   },
   "outputs": [
    {
     "name": "stdout",
     "output_type": "stream",
     "text": [
      "There are 1338 profitable movies\n"
     ]
    },
    {
     "data": {
      "text/html": [
       "<div>\n",
       "<style scoped>\n",
       "    .dataframe tbody tr th:only-of-type {\n",
       "        vertical-align: middle;\n",
       "    }\n",
       "\n",
       "    .dataframe tbody tr th {\n",
       "        vertical-align: top;\n",
       "    }\n",
       "\n",
       "    .dataframe thead th {\n",
       "        text-align: right;\n",
       "    }\n",
       "</style>\n",
       "<table border=\"1\" class=\"dataframe\">\n",
       "  <thead>\n",
       "    <tr style=\"text-align: right;\">\n",
       "      <th></th>\n",
       "      <th>id</th>\n",
       "      <th>popularity</th>\n",
       "      <th>budget</th>\n",
       "      <th>revenue</th>\n",
       "      <th>profit</th>\n",
       "      <th>original_title</th>\n",
       "      <th>director</th>\n",
       "      <th>runtime</th>\n",
       "      <th>vote_count</th>\n",
       "      <th>vote_average</th>\n",
       "      <th>release_year</th>\n",
       "      <th>budget_adj</th>\n",
       "      <th>revenue_adj</th>\n",
       "      <th>cast_1</th>\n",
       "      <th>cast_2</th>\n",
       "      <th>cast_3</th>\n",
       "      <th>cast_4</th>\n",
       "      <th>cast_5</th>\n",
       "      <th>keywords_1</th>\n",
       "      <th>keywords_2</th>\n",
       "      <th>keywords_3</th>\n",
       "      <th>keywords_4</th>\n",
       "      <th>keywords_5</th>\n",
       "      <th>genres_1</th>\n",
       "      <th>genres_2</th>\n",
       "      <th>genres_3</th>\n",
       "      <th>genres_4</th>\n",
       "      <th>genres_5</th>\n",
       "      <th>production_companies_1</th>\n",
       "      <th>production_companies_2</th>\n",
       "      <th>production_companies_3</th>\n",
       "      <th>production_companies_4</th>\n",
       "      <th>production_companies_5</th>\n",
       "    </tr>\n",
       "  </thead>\n",
       "  <tbody>\n",
       "    <tr>\n",
       "      <th>0</th>\n",
       "      <td>135397</td>\n",
       "      <td>32.985763</td>\n",
       "      <td>150000000.0</td>\n",
       "      <td>1.513529e+09</td>\n",
       "      <td>1.363529e+09</td>\n",
       "      <td>Jurassic World</td>\n",
       "      <td>Colin Trevorrow</td>\n",
       "      <td>124</td>\n",
       "      <td>5562</td>\n",
       "      <td>6.5</td>\n",
       "      <td>2015</td>\n",
       "      <td>1.379999e+08</td>\n",
       "      <td>1.392446e+09</td>\n",
       "      <td>Chris Pratt</td>\n",
       "      <td>Bryce Dallas Howard</td>\n",
       "      <td>Irrfan Khan</td>\n",
       "      <td>Vincent D'Onofrio</td>\n",
       "      <td>Nick Robinson</td>\n",
       "      <td>monster</td>\n",
       "      <td>dna</td>\n",
       "      <td>tyrannosaurus rex</td>\n",
       "      <td>velociraptor</td>\n",
       "      <td>island</td>\n",
       "      <td>Action</td>\n",
       "      <td>Adventure</td>\n",
       "      <td>Science Fiction</td>\n",
       "      <td>Thriller</td>\n",
       "      <td>None</td>\n",
       "      <td>Universal Studios</td>\n",
       "      <td>Amblin Entertainment</td>\n",
       "      <td>Legendary Pictures</td>\n",
       "      <td>Fuji Television Network</td>\n",
       "      <td>Dentsu</td>\n",
       "    </tr>\n",
       "    <tr>\n",
       "      <th>1</th>\n",
       "      <td>76341</td>\n",
       "      <td>28.419936</td>\n",
       "      <td>150000000.0</td>\n",
       "      <td>3.784364e+08</td>\n",
       "      <td>2.284364e+08</td>\n",
       "      <td>Mad Max: Fury Road</td>\n",
       "      <td>George Miller</td>\n",
       "      <td>120</td>\n",
       "      <td>6185</td>\n",
       "      <td>7.1</td>\n",
       "      <td>2015</td>\n",
       "      <td>1.379999e+08</td>\n",
       "      <td>3.481613e+08</td>\n",
       "      <td>Tom Hardy</td>\n",
       "      <td>Charlize Theron</td>\n",
       "      <td>Hugh Keays-Byrne</td>\n",
       "      <td>Nicholas Hoult</td>\n",
       "      <td>Josh Helman</td>\n",
       "      <td>future</td>\n",
       "      <td>chase</td>\n",
       "      <td>post-apocalyptic</td>\n",
       "      <td>dystopia</td>\n",
       "      <td>australia</td>\n",
       "      <td>Action</td>\n",
       "      <td>Adventure</td>\n",
       "      <td>Science Fiction</td>\n",
       "      <td>Thriller</td>\n",
       "      <td>None</td>\n",
       "      <td>Village Roadshow Pictures</td>\n",
       "      <td>Kennedy Miller Productions</td>\n",
       "      <td>None</td>\n",
       "      <td>None</td>\n",
       "      <td>None</td>\n",
       "    </tr>\n",
       "    <tr>\n",
       "      <th>2</th>\n",
       "      <td>262500</td>\n",
       "      <td>13.112507</td>\n",
       "      <td>110000000.0</td>\n",
       "      <td>2.952382e+08</td>\n",
       "      <td>1.852382e+08</td>\n",
       "      <td>Insurgent</td>\n",
       "      <td>Robert Schwentke</td>\n",
       "      <td>119</td>\n",
       "      <td>2480</td>\n",
       "      <td>6.3</td>\n",
       "      <td>2015</td>\n",
       "      <td>1.012000e+08</td>\n",
       "      <td>2.716190e+08</td>\n",
       "      <td>Shailene Woodley</td>\n",
       "      <td>Theo James</td>\n",
       "      <td>Kate Winslet</td>\n",
       "      <td>Ansel Elgort</td>\n",
       "      <td>Miles Teller</td>\n",
       "      <td>based on novel</td>\n",
       "      <td>revolution</td>\n",
       "      <td>dystopia</td>\n",
       "      <td>sequel</td>\n",
       "      <td>dystopic future</td>\n",
       "      <td>Adventure</td>\n",
       "      <td>Science Fiction</td>\n",
       "      <td>Thriller</td>\n",
       "      <td>None</td>\n",
       "      <td>None</td>\n",
       "      <td>Summit Entertainment</td>\n",
       "      <td>Mandeville Films</td>\n",
       "      <td>Red Wagon Entertainment</td>\n",
       "      <td>NeoReel</td>\n",
       "      <td>None</td>\n",
       "    </tr>\n",
       "    <tr>\n",
       "      <th>3</th>\n",
       "      <td>140607</td>\n",
       "      <td>11.173104</td>\n",
       "      <td>200000000.0</td>\n",
       "      <td>2.068178e+09</td>\n",
       "      <td>1.868178e+09</td>\n",
       "      <td>Star Wars: The Force Awakens</td>\n",
       "      <td>J.J. Abrams</td>\n",
       "      <td>136</td>\n",
       "      <td>5292</td>\n",
       "      <td>7.5</td>\n",
       "      <td>2015</td>\n",
       "      <td>1.839999e+08</td>\n",
       "      <td>1.902723e+09</td>\n",
       "      <td>Harrison Ford</td>\n",
       "      <td>Mark Hamill</td>\n",
       "      <td>Carrie Fisher</td>\n",
       "      <td>Adam Driver</td>\n",
       "      <td>Daisy Ridley</td>\n",
       "      <td>android</td>\n",
       "      <td>spaceship</td>\n",
       "      <td>jedi</td>\n",
       "      <td>space opera</td>\n",
       "      <td>3d</td>\n",
       "      <td>Action</td>\n",
       "      <td>Adventure</td>\n",
       "      <td>Science Fiction</td>\n",
       "      <td>Fantasy</td>\n",
       "      <td>None</td>\n",
       "      <td>Lucasfilm</td>\n",
       "      <td>Truenorth Productions</td>\n",
       "      <td>Bad Robot</td>\n",
       "      <td>None</td>\n",
       "      <td>None</td>\n",
       "    </tr>\n",
       "    <tr>\n",
       "      <th>4</th>\n",
       "      <td>168259</td>\n",
       "      <td>9.335014</td>\n",
       "      <td>190000000.0</td>\n",
       "      <td>1.506249e+09</td>\n",
       "      <td>1.316249e+09</td>\n",
       "      <td>Furious 7</td>\n",
       "      <td>James Wan</td>\n",
       "      <td>137</td>\n",
       "      <td>2947</td>\n",
       "      <td>7.3</td>\n",
       "      <td>2015</td>\n",
       "      <td>1.747999e+08</td>\n",
       "      <td>1.385749e+09</td>\n",
       "      <td>Vin Diesel</td>\n",
       "      <td>Paul Walker</td>\n",
       "      <td>Jason Statham</td>\n",
       "      <td>Michelle Rodriguez</td>\n",
       "      <td>Dwayne Johnson</td>\n",
       "      <td>car race</td>\n",
       "      <td>speed</td>\n",
       "      <td>revenge</td>\n",
       "      <td>suspense</td>\n",
       "      <td>car</td>\n",
       "      <td>Action</td>\n",
       "      <td>Crime</td>\n",
       "      <td>Thriller</td>\n",
       "      <td>None</td>\n",
       "      <td>None</td>\n",
       "      <td>Universal Pictures</td>\n",
       "      <td>Original Film</td>\n",
       "      <td>Media Rights Capital</td>\n",
       "      <td>Dentsu</td>\n",
       "      <td>One Race Films</td>\n",
       "    </tr>\n",
       "  </tbody>\n",
       "</table>\n",
       "</div>"
      ],
      "text/plain": [
       "       id  popularity  ...   production_companies_4  production_companies_5\n",
       "0  135397   32.985763  ...  Fuji Television Network                  Dentsu\n",
       "1   76341   28.419936  ...                     None                    None\n",
       "2  262500   13.112507  ...                  NeoReel                    None\n",
       "3  140607   11.173104  ...                     None                    None\n",
       "4  168259    9.335014  ...                   Dentsu          One Race Films\n",
       "\n",
       "[5 rows x 33 columns]"
      ]
     },
     "execution_count": 42,
     "metadata": {
      "tags": []
     },
     "output_type": "execute_result"
    }
   ],
   "source": [
    "# lets find all movies which made a profit of \n",
    "df_profitable_movies = df.query('profit > 50000000')\n",
    "print(f\"There are {df_profitable_movies.shape[0]} profitable movies\")\n",
    "df_profitable_movies.head()\n"
   ]
  },
  {
   "cell_type": "code",
   "execution_count": 0,
   "metadata": {
    "colab": {},
    "colab_type": "code",
    "collapsed": true,
    "id": "fg7oqb_Ti4v_"
   },
   "outputs": [],
   "source": [
    "# looking at the genre \n",
    "df_genres = df_profitable_movies.loc[:, 'genres_1': 'genres_5' ]"
   ]
  },
  {
   "cell_type": "code",
   "execution_count": 0,
   "metadata": {
    "colab": {},
    "colab_type": "code",
    "collapsed": true,
    "id": "soUlGGCakfgZ"
   },
   "outputs": [],
   "source": [
    "genre_counts = df_genres.stack().value_counts()"
   ]
  },
  {
   "cell_type": "code",
   "execution_count": 0,
   "metadata": {
    "colab": {
     "base_uri": "https://localhost:8080/",
     "height": 136
    },
    "colab_type": "code",
    "id": "45IBnOW7kgzf",
    "outputId": "c19f1b84-b578-4902-b68f-63ed944f465c"
   },
   "outputs": [
    {
     "name": "stdout",
     "output_type": "stream",
     "text": [
      "Here are the top 5 Genres:\n",
      "Comedy       492\n",
      "Drama        481\n",
      "Action       464\n",
      "Thriller     405\n",
      "Adventure    379\n",
      "dtype: int64\n"
     ]
    }
   ],
   "source": [
    "#genre_counts = series1.value_counts()+series2.value_counts()+series3.value_counts()+series4.value_counts()+series5.value_counts()\n",
    "print(\"Here are the top 5 Genres:\")\n",
    "print(genre_counts.head(5))"
   ]
  },
  {
   "cell_type": "code",
   "execution_count": 0,
   "metadata": {
    "colab": {},
    "colab_type": "code",
    "collapsed": true,
    "id": "c1DgT1JIo6mn"
   },
   "outputs": [],
   "source": [
    "genre_counts.dropna(inplace=True)"
   ]
  },
  {
   "cell_type": "code",
   "execution_count": 0,
   "metadata": {
    "colab": {
     "base_uri": "https://localhost:8080/",
     "height": 573
    },
    "colab_type": "code",
    "id": "n8jM8lbwl61B",
    "outputId": "e943524b-1cd2-45bb-a1d3-1d88e3c20989"
   },
   "outputs": [
    {
     "data": {
      "image/png": "[encoded data removed]",
      "text/plain": [
       "<Figure size 864x648 with 1 Axes>"
      ]
     },
     "metadata": {
      "needs_background": "light",
      "tags": []
     },
     "output_type": "display_data"
    }
   ],
   "source": [
    "genre_counts.sort_values(ascending=True, inplace=True)\n",
    "p = genre_counts.plot.barh(fontsize=12)\n",
    "p.set(title = 'Genre Count in Profitable Movies')\n",
    "p.set_xlabel('Number of Movies', fontsize=12)\n",
    "p.figure.set_size_inches(12, 9)"
   ]
  },
  {
   "cell_type": "markdown",
   "metadata": {
    "colab_type": "text",
    "id": "mtwR7xGRtWI-"
   },
   "source": [
    "Above analysis shows that the comedy genre was most successful over the years followed closely by drama and action"
   ]
  },
  {
   "cell_type": "markdown",
   "metadata": {
    "colab_type": "text",
    "id": "p7ormqcYuUe4"
   },
   "source": [
    "<a id='question2'></a>\n",
    "### Research question 2: What are the attributes associated with succesful movies?"
   ]
  },
  {
   "cell_type": "code",
   "execution_count": 0,
   "metadata": {
    "colab": {
     "base_uri": "https://localhost:8080/",
     "height": 170
    },
    "colab_type": "code",
    "id": "yd0SqoQAneMS",
    "outputId": "084799b9-e8ee-48be-a374-d2a56402d02a"
   },
   "outputs": [
    {
     "data": {
      "text/plain": [
       "count    1.338000e+03\n",
       "mean     1.945127e+08\n",
       "std      2.019087e+08\n",
       "min      5.002009e+07\n",
       "25%      7.712958e+07\n",
       "50%      1.240835e+08\n",
       "75%      2.285696e+08\n",
       "max      2.544506e+09\n",
       "Name: profit, dtype: float64"
      ]
     },
     "execution_count": 48,
     "metadata": {
      "tags": []
     },
     "output_type": "execute_result"
    }
   ],
   "source": [
    "# lets take a look at profit column within profitable movies\n",
    "df_profitable_movies['profit'].describe()"
   ]
  },
  {
   "cell_type": "code",
   "execution_count": 0,
   "metadata": {
    "colab": {},
    "colab_type": "code",
    "collapsed": true,
    "id": "6MLa12JKXpnG"
   },
   "outputs": [],
   "source": [
    "# search for the best attributes first\n",
    "best_director = df_profitable_movies['director'].value_counts().idxmax()\n",
    "cast = df_profitable_movies.loc[:, 'cast_1': 'cast_5']\n",
    "best_cast = cast.stack().value_counts().idxmax()\n",
    "genres = df_profitable_movies.loc[:, 'genres_1': 'genres_5']\n",
    "best_genres = genres.stack().value_counts().idxmax()\n",
    "production = df_profitable_movies.loc[:, 'production_companies_1': 'production_companies_5']\n",
    "best_production = production.stack().value_counts().idxmax()\n",
    "best_year = df_profitable_movies['release_year'].value_counts().idxmax()"
   ]
  },
  {
   "cell_type": "code",
   "execution_count": 0,
   "metadata": {
    "colab": {},
    "colab_type": "code",
    "collapsed": true,
    "id": "9rUhZyQuXwiw"
   },
   "outputs": [],
   "source": [
    "# search for the average attributes\n",
    "avg_runtime = df_profitable_movies['runtime'].mean()\n",
    "avg_budget = df_profitable_movies['budget_adj'].mean()\n",
    "avg_revenue = df_profitable_movies['revenue_adj'].mean()\n",
    "avg_profit = df_profitable_movies['profit'].mean()\n",
    "avg_vote = df_profitable_movies['vote_average'].mean()\n",
    "avg_popularity = df_profitable_movies['popularity'].mean()"
   ]
  },
  {
   "cell_type": "code",
   "execution_count": 0,
   "metadata": {
    "colab": {
     "base_uri": "https://localhost:8080/",
     "height": 238
    },
    "colab_type": "code",
    "id": "Eq9wArUnxuat",
    "outputId": "cbbb4d97-6469-436c-eaba-8a7141e62f93"
   },
   "outputs": [
    {
     "name": "stdout",
     "output_type": "stream",
     "text": [
      "Attributes of a Successful Movie\n",
      "================================\n",
      "Director: Steven Spielberg\n",
      "Cast: Tom Cruise\n",
      "Genres: Comedy\n",
      "Production company: Universal Pictures\n",
      "Year: 2011\n",
      "Average runtime: 114 mins\n",
      "Average budget: 68.9 M\n",
      "Average revenue: 318.1 M\n",
      "Average profit: 194.5 M\n",
      "Average vote: 6.4\n",
      "Average popularity: 2.0\n"
     ]
    }
   ],
   "source": [
    "# print results\n",
    "print(\"Attributes of a Successful Movie\")\n",
    "print(\"================================\")\n",
    "print(f\"Director: {best_director}\")\n",
    "print(f\"Cast: {best_cast}\")\n",
    "print(f\"Genres: {best_genres}\")\n",
    "print(f\"Production company: {best_production}\")\n",
    "print(f\"Year: {best_year}\")\n",
    "print(f\"Average runtime: {avg_runtime:.0f} mins\")\n",
    "print(f\"Average budget: {avg_budget/1000000:.1f} M\")\n",
    "print(f\"Average revenue: {avg_revenue/1000000:.1f} M\")\n",
    "print(f\"Average profit: {avg_profit/1000000:.1f} M\")\n",
    "print(f\"Average vote: {avg_vote:.1f}\")\n",
    "print(f\"Average popularity: {avg_popularity:.1f}\")"
   ]
  },
  {
   "cell_type": "markdown",
   "metadata": {
    "colab_type": "text",
    "id": "LaDWJ4TZ5xyn"
   },
   "source": [
    "<a id='question3'></a>\n",
    "### Research Question 3: How has runtime of movies changed over the years?"
   ]
  },
  {
   "cell_type": "code",
   "execution_count": 0,
   "metadata": {
    "colab": {
     "base_uri": "https://localhost:8080/",
     "height": 170
    },
    "colab_type": "code",
    "id": "RpnBD0jmA1rL",
    "outputId": "d4cc82f2-98e8-48ce-928f-26cb75055640"
   },
   "outputs": [
    {
     "data": {
      "text/plain": [
       "count    10703.000000\n",
       "mean       102.736896\n",
       "std         30.079331\n",
       "min          3.000000\n",
       "25%         90.000000\n",
       "50%         99.000000\n",
       "75%        112.000000\n",
       "max        900.000000\n",
       "Name: runtime, dtype: float64"
      ]
     },
     "execution_count": 52,
     "metadata": {
      "tags": []
     },
     "output_type": "execute_result"
    }
   ],
   "source": [
    "df['runtime'].describe()"
   ]
  },
  {
   "cell_type": "code",
   "execution_count": 0,
   "metadata": {
    "colab": {
     "base_uri": "https://localhost:8080/",
     "height": 68
    },
    "colab_type": "code",
    "id": "JX7LU3OawhcI",
    "outputId": "0d71f082-4a25-4b6a-ede7-269746fbd154"
   },
   "outputs": [
    {
     "name": "stdout",
     "output_type": "stream",
     "text": [
      "Min runtime of a movie is 3 mins\n",
      "Average runtime of a movie is 103 mins\n",
      "Max runtime of a movie is 900 mins\n"
     ]
    }
   ],
   "source": [
    "print(f\"Min runtime of a movie is {df['runtime'].min():.0f} mins\")\n",
    "print(f\"Average runtime of a movie is {df['runtime'].mean():.0f} mins\")\n",
    "print(f\"Max runtime of a movie is {df['runtime'].max():.0f} mins\")"
   ]
  },
  {
   "cell_type": "code",
   "execution_count": 0,
   "metadata": {
    "colab": {
     "base_uri": "https://localhost:8080/",
     "height": 34
    },
    "colab_type": "code",
    "id": "TyTiyrFT662P",
    "outputId": "d11a9411-4e3e-496a-8e52-abcb31d6a797"
   },
   "outputs": [
    {
     "name": "stdout",
     "output_type": "stream",
     "text": [
      "Most common runtime of a movie is 90 mins\n"
     ]
    }
   ],
   "source": [
    "runtime_counts = df['runtime'].value_counts()\n",
    "print(f\"Most common runtime of a movie is {runtime_counts.index[0]} mins\")"
   ]
  },
  {
   "cell_type": "code",
   "execution_count": 0,
   "metadata": {
    "colab": {
     "base_uri": "https://localhost:8080/",
     "height": 484
    },
    "colab_type": "code",
    "id": "X6nob9oj5w3M",
    "outputId": "16ca4825-67b3-4132-86cb-3544a75c6a41"
   },
   "outputs": [
    {
     "data": {
      "image/png": "[encoded data removed]",
      "text/plain": [
       "<Figure size 900x500 with 1 Axes>"
      ]
     },
     "metadata": {
      "needs_background": "light",
      "tags": []
     },
     "output_type": "display_data"
    }
   ],
   "source": [
    "plt.figure(figsize=(9,5), dpi = 100)\n",
    "plt.xlabel('Runtime(mins)', fontsize = 12)\n",
    "plt.ylabel('Number of Movies', fontsize=12)\n",
    "plt.title('Runtime of Movies', fontsize=12)\n",
    "plt.hist(df['runtime'], rwidth = 0.9, bins =35);"
   ]
  },
  {
   "cell_type": "markdown",
   "metadata": {
    "colab_type": "text",
    "id": "53Pm2CBt9v9U"
   },
   "source": [
    "The distribution above is skewed to the right and it seems like most movies range between 50 to 150 mins\n",
    "\n",
    "it would be intresting to see how many movies are exceeding 400 min and below 20 mins. This can be visualized using a swarm point plot"
   ]
  },
  {
   "cell_type": "code",
   "execution_count": 0,
   "metadata": {
    "colab": {
     "base_uri": "https://localhost:8080/",
     "height": 497
    },
    "colab_type": "code",
    "id": "gqesVJjy6iFB",
    "outputId": "7b4501d9-9a37-4508-8de1-00b02a7461eb"
   },
   "outputs": [
    {
     "data": {
      "text/plain": [
       "<matplotlib.axes._subplots.AxesSubplot at 0x7f1aecfaee10>"
      ]
     },
     "execution_count": 56,
     "metadata": {
      "tags": []
     },
     "output_type": "execute_result"
    },
    {
     "data": {
      "image/png": "[encoded data removed]",
      "text/plain": [
       "<Figure size 1050x525 with 1 Axes>"
      ]
     },
     "metadata": {
      "needs_background": "light",
      "tags": []
     },
     "output_type": "display_data"
    }
   ],
   "source": [
    "plt.figure(figsize=(10,5), dpi = 105)\n",
    "sns.swarmplot(df['runtime'], color = 'green')"
   ]
  },
  {
   "cell_type": "markdown",
   "metadata": {
    "colab_type": "text",
    "id": "TdJL2ZcEBIft"
   },
   "source": [
    "<a id='question4'></a>\n",
    "### Research question 4: What is the relation between vote count and rating?"
   ]
  },
  {
   "cell_type": "code",
   "execution_count": 0,
   "metadata": {
    "colab": {
     "base_uri": "https://localhost:8080/",
     "height": 297
    },
    "colab_type": "code",
    "id": "QkxpY5n5_4tt",
    "outputId": "8679c9cb-9017-4f0c-e1da-2ebf35f934a5"
   },
   "outputs": [
    {
     "data": {
      "text/html": [
       "<div>\n",
       "<style scoped>\n",
       "    .dataframe tbody tr th:only-of-type {\n",
       "        vertical-align: middle;\n",
       "    }\n",
       "\n",
       "    .dataframe tbody tr th {\n",
       "        vertical-align: top;\n",
       "    }\n",
       "\n",
       "    .dataframe thead th {\n",
       "        text-align: right;\n",
       "    }\n",
       "</style>\n",
       "<table border=\"1\" class=\"dataframe\">\n",
       "  <thead>\n",
       "    <tr style=\"text-align: right;\">\n",
       "      <th></th>\n",
       "      <th>vote_count</th>\n",
       "      <th>vote_average</th>\n",
       "    </tr>\n",
       "  </thead>\n",
       "  <tbody>\n",
       "    <tr>\n",
       "      <th>count</th>\n",
       "      <td>10703.000000</td>\n",
       "      <td>10703.000000</td>\n",
       "    </tr>\n",
       "    <tr>\n",
       "      <th>mean</th>\n",
       "      <td>220.333178</td>\n",
       "      <td>5.966112</td>\n",
       "    </tr>\n",
       "    <tr>\n",
       "      <th>std</th>\n",
       "      <td>579.481969</td>\n",
       "      <td>0.930155</td>\n",
       "    </tr>\n",
       "    <tr>\n",
       "      <th>min</th>\n",
       "      <td>10.000000</td>\n",
       "      <td>1.500000</td>\n",
       "    </tr>\n",
       "    <tr>\n",
       "      <th>25%</th>\n",
       "      <td>17.000000</td>\n",
       "      <td>5.400000</td>\n",
       "    </tr>\n",
       "    <tr>\n",
       "      <th>50%</th>\n",
       "      <td>39.000000</td>\n",
       "      <td>6.000000</td>\n",
       "    </tr>\n",
       "    <tr>\n",
       "      <th>75%</th>\n",
       "      <td>149.000000</td>\n",
       "      <td>6.600000</td>\n",
       "    </tr>\n",
       "    <tr>\n",
       "      <th>max</th>\n",
       "      <td>9767.000000</td>\n",
       "      <td>9.200000</td>\n",
       "    </tr>\n",
       "  </tbody>\n",
       "</table>\n",
       "</div>"
      ],
      "text/plain": [
       "         vote_count  vote_average\n",
       "count  10703.000000  10703.000000\n",
       "mean     220.333178      5.966112\n",
       "std      579.481969      0.930155\n",
       "min       10.000000      1.500000\n",
       "25%       17.000000      5.400000\n",
       "50%       39.000000      6.000000\n",
       "75%      149.000000      6.600000\n",
       "max     9767.000000      9.200000"
      ]
     },
     "execution_count": 57,
     "metadata": {
      "tags": []
     },
     "output_type": "execute_result"
    }
   ],
   "source": [
    "# Lets being with creating a new dataframe with just the columns we care about \n",
    "df_vote = df.loc[:, 'vote_count' : 'vote_average']\n",
    "df_vote.describe()"
   ]
  },
  {
   "cell_type": "code",
   "execution_count": 0,
   "metadata": {
    "colab": {
     "base_uri": "https://localhost:8080/",
     "height": 331
    },
    "colab_type": "code",
    "id": "OgyQ-6pTCoSP",
    "outputId": "067bcfd7-70d1-41f5-ef94-1f89fc63562d"
   },
   "outputs": [
    {
     "name": "stdout",
     "output_type": "stream",
     "text": [
      "              vote_count  vote_average\n",
      "vote_count       1.00000       0.26044\n",
      "vote_average     0.26044       1.00000\n"
     ]
    },
    {
     "data": {
      "image/png": "[encoded data removed]",
      "text/plain": [
       "<Figure size 432x288 with 1 Axes>"
      ]
     },
     "metadata": {
      "needs_background": "light",
      "tags": []
     },
     "output_type": "display_data"
    }
   ],
   "source": [
    "df_vote.plot(x='vote_count', y='vote_average', kind='scatter');\n",
    "print(df_vote.corr())"
   ]
  },
  {
   "cell_type": "code",
   "execution_count": 0,
   "metadata": {
    "colab": {
     "base_uri": "https://localhost:8080/",
     "height": 331
    },
    "colab_type": "code",
    "id": "spSfnWoeBhzL",
    "outputId": "b297cae9-0781-4196-a605-f840156aeb18"
   },
   "outputs": [
    {
     "name": "stdout",
     "output_type": "stream",
     "text": [
      "              vote_count  vote_average\n",
      "vote_count      1.000000      0.323968\n",
      "vote_average    0.323968      1.000000\n"
     ]
    },
    {
     "data": {
      "image/png": "[encoded data removed]",
      "text/plain": [
       "<Figure size 432x288 with 1 Axes>"
      ]
     },
     "metadata": {
      "needs_background": "light",
      "tags": []
     },
     "output_type": "display_data"
    }
   ],
   "source": [
    "# we probably want to consider cases with high vote count and compare \n",
    "df_high_votes = df_vote.query('vote_count > 1500')\n",
    "print(df_high_votes.corr())\n",
    "df_high_votes.plot(x='vote_count', y='vote_average', kind='scatter');"
   ]
  },
  {
   "cell_type": "markdown",
   "metadata": {
    "colab_type": "text",
    "id": "q16FDs-wFvY6"
   },
   "source": [
    "<a id='question5'></a>\n",
    "### Research question 5: What keywords have trended over the years?"
   ]
  },
  {
   "cell_type": "code",
   "execution_count": 0,
   "metadata": {
    "colab": {
     "base_uri": "https://localhost:8080/",
     "height": 136
    },
    "colab_type": "code",
    "id": "hcIM1zqtEW_m",
    "outputId": "6ac1ba3c-e730-44a3-85cb-3e215902d65b"
   },
   "outputs": [
    {
     "data": {
      "text/plain": [
       "release_year\n",
       "1960    32\n",
       "1961    31\n",
       "1962    32\n",
       "1963    34\n",
       "1964    42\n",
       "Name: id, dtype: int64"
      ]
     },
     "execution_count": 60,
     "metadata": {
      "tags": []
     },
     "output_type": "execute_result"
    }
   ],
   "source": [
    "movie_count = df.groupby('release_year').count()['id']\n",
    "movie_count.head()"
   ]
  },
  {
   "cell_type": "code",
   "execution_count": 0,
   "metadata": {
    "colab": {
     "base_uri": "https://localhost:8080/",
     "height": 501
    },
    "colab_type": "code",
    "id": "nvWciMLjHCFc",
    "outputId": "4b0bbf05-def6-4f0f-b138-66f3c5fc4006"
   },
   "outputs": [
    {
     "data": {
      "text/plain": [
       "Text(0, 0.5, 'Number of movies')"
      ]
     },
     "execution_count": 61,
     "metadata": {
      "tags": []
     },
     "output_type": "execute_result"
    },
    {
     "data": {
      "image/png": "[encoded data removed]",
      "text/plain": [
       "<Figure size 900x500 with 1 Axes>"
      ]
     },
     "metadata": {
      "needs_background": "light",
      "tags": []
     },
     "output_type": "display_data"
    }
   ],
   "source": [
    "plt.figure(figsize=(9,5), dpi = 100)\n",
    "plt.plot(movie_count.index,movie_count)\n",
    "plt.title('Number of Movie Releases')\n",
    "plt.xlabel('Year', fontsize=12)\n",
    "plt.ylabel('Number of movies', fontsize=12)"
   ]
  },
  {
   "cell_type": "code",
   "execution_count": 0,
   "metadata": {
    "colab": {
     "base_uri": "https://localhost:8080/",
     "height": 119
    },
    "colab_type": "code",
    "id": "Laqf80acHWQE",
    "outputId": "fdef990d-f8e9-472f-f244-a516806a5830"
   },
   "outputs": [
    {
     "data": {
      "text/plain": [
       "array([1960, 1961, 1962, 1963, 1964, 1965, 1966, 1967, 1968, 1969, 1970,\n",
       "       1971, 1972, 1973, 1974, 1975, 1976, 1977, 1978, 1979, 1980, 1981,\n",
       "       1982, 1983, 1984, 1985, 1986, 1987, 1988, 1989, 1990, 1991, 1992,\n",
       "       1993, 1994, 1995, 1996, 1997, 1998, 1999, 2000, 2001, 2002, 2003,\n",
       "       2004, 2005, 2006, 2007, 2008, 2009, 2010, 2011, 2012, 2013, 2014,\n",
       "       2015])"
      ]
     },
     "execution_count": 62,
     "metadata": {
      "tags": []
     },
     "output_type": "execute_result"
    }
   ],
   "source": [
    "# now we need to create an array of years \n",
    "df_year = df['release_year'].unique()\n",
    "df_year.sort()\n",
    "df_year"
   ]
  },
  {
   "cell_type": "code",
   "execution_count": 0,
   "metadata": {
    "colab": {},
    "colab_type": "code",
    "collapsed": true,
    "id": "2UqcgDyWIh9p"
   },
   "outputs": [],
   "source": [
    "df_decades = []\n",
    "# Now we can group by decades \n",
    "df_1960s =df_year[:10]\n",
    "df_decades.append([df_1960s, '1960s'])\n",
    "df_1970s =df_year[10:20]\n",
    "df_decades.append([df_1970s, '1970s'])\n",
    "df_1980s =df_year[20:30]\n",
    "df_decades.append([df_1980s, '1980s'])\n",
    "df_1990s = df_year[30:40]\n",
    "df_decades.append([df_1990s, '1990s'])\n",
    "df_2000s = df_year[40:]\n",
    "df_decades.append([df_2000s, '2000s'])"
   ]
  },
  {
   "cell_type": "code",
   "execution_count": 0,
   "metadata": {
    "colab": {
     "base_uri": "https://localhost:8080/",
     "height": 102
    },
    "colab_type": "code",
    "id": "wTsS55r2JP8o",
    "outputId": "0b681bb7-9831-4d06-9702-b27528337706"
   },
   "outputs": [
    {
     "name": "stdout",
     "output_type": "stream",
     "text": [
      "1960s: based on novel 16\n",
      "1970s: based on novel 23\n",
      "1980s: nudity 39\n",
      "1990s: independent film 80\n",
      "2000s: woman director 347\n"
     ]
    }
   ],
   "source": [
    "# For each decade now we find the most common keyword \n",
    "df_keywords = pd.DataFrame()\n",
    "for i, decade in enumerate(df_decades):\n",
    "  df_temp = df[df.release_year.isin(decade[0])]\n",
    "  keyword = df_temp.loc[:, 'keywords_1': 'keywords_5']\n",
    "  common_keyword = keyword.stack().value_counts().idxmax()\n",
    "  common_keyword_count = keyword.stack().value_counts()[common_keyword]\n",
    "  df_keywords = df_keywords.append(pd.DataFrame({'year' :decade[1],'keyword':common_keyword,'keyword_count': common_keyword_count}, index=[i]))\n",
    "  print(f\"{decade[1]}: {common_keyword} {common_keyword_count}\")\n"
   ]
  },
  {
   "cell_type": "code",
   "execution_count": 0,
   "metadata": {
    "colab": {
     "base_uri": "https://localhost:8080/",
     "height": 204
    },
    "colab_type": "code",
    "id": "smm-TLGIOlOS",
    "outputId": "f9f88159-3359-454f-cd47-88c5bdbcf7d1"
   },
   "outputs": [
    {
     "data": {
      "text/html": [
       "<div>\n",
       "<style scoped>\n",
       "    .dataframe tbody tr th:only-of-type {\n",
       "        vertical-align: middle;\n",
       "    }\n",
       "\n",
       "    .dataframe tbody tr th {\n",
       "        vertical-align: top;\n",
       "    }\n",
       "\n",
       "    .dataframe thead th {\n",
       "        text-align: right;\n",
       "    }\n",
       "</style>\n",
       "<table border=\"1\" class=\"dataframe\">\n",
       "  <thead>\n",
       "    <tr style=\"text-align: right;\">\n",
       "      <th></th>\n",
       "      <th>year</th>\n",
       "      <th>keyword</th>\n",
       "      <th>keyword_count</th>\n",
       "    </tr>\n",
       "  </thead>\n",
       "  <tbody>\n",
       "    <tr>\n",
       "      <th>0</th>\n",
       "      <td>1960s</td>\n",
       "      <td>based on novel</td>\n",
       "      <td>16</td>\n",
       "    </tr>\n",
       "    <tr>\n",
       "      <th>1</th>\n",
       "      <td>1970s</td>\n",
       "      <td>based on novel</td>\n",
       "      <td>23</td>\n",
       "    </tr>\n",
       "    <tr>\n",
       "      <th>2</th>\n",
       "      <td>1980s</td>\n",
       "      <td>nudity</td>\n",
       "      <td>39</td>\n",
       "    </tr>\n",
       "    <tr>\n",
       "      <th>3</th>\n",
       "      <td>1990s</td>\n",
       "      <td>independent film</td>\n",
       "      <td>80</td>\n",
       "    </tr>\n",
       "    <tr>\n",
       "      <th>4</th>\n",
       "      <td>2000s</td>\n",
       "      <td>woman director</td>\n",
       "      <td>347</td>\n",
       "    </tr>\n",
       "  </tbody>\n",
       "</table>\n",
       "</div>"
      ],
      "text/plain": [
       "    year           keyword  keyword_count\n",
       "0  1960s    based on novel             16\n",
       "1  1970s    based on novel             23\n",
       "2  1980s            nudity             39\n",
       "3  1990s  independent film             80\n",
       "4  2000s    woman director            347"
      ]
     },
     "execution_count": 65,
     "metadata": {
      "tags": []
     },
     "output_type": "execute_result"
    }
   ],
   "source": [
    "df_keywords"
   ]
  },
  {
   "cell_type": "code",
   "execution_count": 0,
   "metadata": {
    "colab": {
     "base_uri": "https://localhost:8080/",
     "height": 428
    },
    "colab_type": "code",
    "id": "VTkrD0IQLL1f",
    "outputId": "a2e46d76-70a9-48e1-b7ac-4407b24b8505"
   },
   "outputs": [
    {
     "data": {
      "text/plain": [
       "Text(0, 0.5, 'keywords')"
      ]
     },
     "execution_count": 66,
     "metadata": {
      "tags": []
     },
     "output_type": "execute_result"
    },
    {
     "data": {
      "image/png": "[encoded data removed]",
      "text/plain": [
       "<Figure size 576x432 with 1 Axes>"
      ]
     },
     "metadata": {
      "needs_background": "light",
      "tags": []
     },
     "output_type": "display_data"
    }
   ],
   "source": [
    "# visualizing the same\n",
    "fig, ax = plt.subplots()\n",
    "fig.set_size_inches(8, 6)\n",
    "ax.barh(df_keywords['keyword'],df_keywords['keyword_count'],)\n",
    "ax.set_title('Keywords Trend', fontsize=15)\n",
    "ax.set_xlabel('keywords count', fontsize=15)\n",
    "ax.set_ylabel('keywords', fontsize=15)"
   ]
  },
  {
   "cell_type": "markdown",
   "metadata": {
    "colab_type": "text",
    "id": "IfbT8PfPTPhn"
   },
   "source": [
    "<a id='conclusions'></a>\n",
    "## Conclusions"
   ]
  },
  {
   "cell_type": "markdown",
   "metadata": {
    "colab_type": "text",
    "id": "AncKOVv6aVIN"
   },
   "source": [
    "To conclude this research lets summarize the findings. The goal of this research was to explore a dataset comprising of last 45 years of various movie attributes. There were 5 questions which were posed and here are the findings:\n",
    "\n",
    "1. Which genres have been successful over the years?\n",
    "\n",
    "> The comedy genre was most successful over the years followed closely by drama and action.\n",
    "\n",
    "2. What are the attributes associated with succesful movies?\n",
    "\n",
    "> There are few cast, director, genre and production company that seldomly showed up in movies that were a financial success. It was also found that most successful movies made a profit of about 195 million and had an average vote of 6.4\n",
    "\n",
    "3. How has runtime of movies changed over the years?\n",
    "\n",
    "> It was found that most movies had a runtime of 103 minutes, with 25% being in the 90 minutes timeframe and 75% in 122 minutes timeframe.\n",
    "\n",
    "4. What is the relation between vote count and rating?\n",
    "\n",
    "> Upon analysis of data it was found that movies with a higher vote average did not directly relate to number of votes it received \n",
    "\n",
    "5. What keywords have trended over the years?\n",
    "\n",
    "> 1960's and 1970's had the same keyword trending \"based on novel\". Thereafter the keyword for next decade is \"nudity\" in 1980s followed by \"independent film\" in 1990s and \"feature women director\" in 2000s\n",
    "\n",
    "The dataset is quite intresting and there were few unexpected findings as well as others which confirmed our assumptions. \n",
    "\n",
    "There are a few limitations of this analysis for example when considering movies to be profitable I assumed the threshold to be 50 million but this may not be accurate which may affect the reported findings. Further the data is only as recent as 2013 which maybe outdated and the trends may have shifted since then.\n",
    "\n",
    "The results disclosed above are strictly based on the dataset and the analysis is generalized."
   ]
  }
 ],
 "metadata": {
  "colab": {
   "collapsed_sections": [
    "IiHhCFNaW2lz",
    "p7ormqcYuUe4",
    "LaDWJ4TZ5xyn",
    "q16FDs-wFvY6"
   ],
   "name": "TMDb_MovieDataset_Analysis.ipynb",
   "provenance": [],
   "toc_visible": true
  },
  "kernelspec": {
   "display_name": "Python 3",
   "language": "python",
   "name": "python3"
  },
  "language_info": {
   "codemirror_mode": {
    "name": "ipython",
    "version": 3
   },
   "file_extension": ".py",
   "mimetype": "text/x-python",
   "name": "python",
   "nbconvert_exporter": "python",
   "pygments_lexer": "ipython3",
   "version": "3.6.2"
  }
 },
 "nbformat": 4,
 "nbformat_minor": 1
}
